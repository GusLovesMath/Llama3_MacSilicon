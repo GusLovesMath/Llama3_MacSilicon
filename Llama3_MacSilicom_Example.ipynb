{
 "cells": [
  {
   "cell_type": "markdown",
   "id": "85a7488c-18e1-40a8-8ea9-98aaadb4ed04",
   "metadata": {
    "editable": true,
    "id": "85a7488c-18e1-40a8-8ea9-98aaadb4ed04",
    "slideshow": {
     "slide_type": ""
    },
    "tags": []
   },
   "source": [
    "<a name='localGPT'>\n",
    "    \n",
    "<div style=\"background-color: cyan;\n",
    "    padding: 20px;\n",
    "    border-radius: 5px;\n",
    "    font-family: 'Garamond', serif;\n",
    "    color: black;\n",
    "    font-size: 16pt;\n",
    "    line-height: 28pt;\n",
    "    text-align: center;\n",
    "    margin: 0px; \n",
    "    border: 3px solid #000000;\">\n",
    " \n",
    "<h2 style=\"font-size: 42pt; margin-top: 15px; margin-bottom: 0px;\">Llama3 on Mac Silicon Device</h2>\n",
    "\n"
   ]
  },
  {
   "cell_type": "code",
   "execution_count": 1,
   "id": "af8fe81b-3123-43a3-a3de-c20967b767d2",
   "metadata": {},
   "outputs": [],
   "source": [
    "# Packages required\n",
    "# !pip install --upgrade ipywidgets\n",
    "# !pip install torch\n",
    "# !pip install mlx-lm"
   ]
  },
  {
   "cell_type": "code",
   "execution_count": 1,
   "id": "18b0b844-0a7d-4b95-9c30-9f24a8bd6b70",
   "metadata": {},
   "outputs": [],
   "source": [
    "# imports\n",
    "from IPython.display import Markdown\n",
    "from mlx_lm import load\n",
    "from mlx_lm import generate"
   ]
  },
  {
   "cell_type": "markdown",
   "id": "e4268841-6a10-4dca-8d97-4f5b5887611e",
   "metadata": {},
   "source": [
    "<div style=\"background-color: cyan; padding: 5px; border-radius: 5px; font-family: 'garamond'; color: black; font-size: 11pt; border: 2px solid black;\">\n",
    "\n",
    "## 1 | Pulling Model\n",
    "\n",
    "</div>\n",
    "\n",
    "- Try other models from [MLX Cummunity on Hugging Face](https://huggingface.co/mlx-community)"
   ]
  },
  {
   "cell_type": "code",
   "execution_count": 4,
   "id": "1d2ab20d-5303-49c9-b600-36dc3548afed",
   "metadata": {},
   "outputs": [],
   "source": [
    "# Define your model to import\n",
    "model_name = \"mlx-community/Meta-Llama-3-8B-Instruct-4bit\"\n",
    "\n",
    "# Loading model\n",
    "model, tokenizer = load(model_name)"
   ]
  },
  {
   "cell_type": "code",
   "execution_count": 4,
   "id": "e3bf361e-23af-4ffe-bf3f-3b619d88f32c",
   "metadata": {},
   "outputs": [
    {
     "name": "stdout",
     "output_type": "stream",
     "text": [
      " playing the role of the \"other\" in the context of the story. The story is a commentary on the nature of identity and how it is shaped by the relationships we have with others.\n",
      "The story is set in a small town in the United States in the 1950s. The protagonist, a young woman named Sarah, is a newcomer to the town and is struggling to find her place. She is different from the other women in the town, who are all married with children and are content\n"
     ]
    }
   ],
   "source": [
    "# Generate a response from the model\n",
    "response = generate(model, tokenizer, prompt=\"hello\", max_tokens=100, verbose=False)\n",
    "\n",
    "# Output the response\n",
    "print(response)"
   ]
  },
  {
   "cell_type": "markdown",
   "id": "8ba10015-27cb-4dad-96cf-a48c280426f4",
   "metadata": {},
   "source": [
    "<div style=\"background-color: cyan; padding: 5px; border-radius: 5px; font-family: 'garamond'; color: black; font-size: 11pt; border: 2px solid black;\">\n",
    "\n",
    "## 2 | Math Example\n",
    "\n",
    "</div>"
   ]
  },
  {
   "cell_type": "code",
   "execution_count": 5,
   "id": "c8817be4-81c1-4e0a-9c35-189e6d23b91d",
   "metadata": {},
   "outputs": [],
   "source": [
    "# Define the role of the chatbot\n",
    "chatbot_role = \"You are a math professor chatbot. You answer with clear step by step solutions.\"\n",
    "\n",
    "# Defining role and message\n",
    "math_question = \"\"\"\n",
    "Please compute the integral of f(x) = exp(-x^2) over the x domain of (- infinity, infinity), use LaTeX.\n",
    "\"\"\"\n",
    "messages = [\n",
    "    {\"role\": \"system\", \"content\": chatbot_role}, \n",
    "    {\"role\": \"user\", \"content\": math_question}\n",
    "]\n",
    "# Getting tokenization\n",
    "input_ids = tokenizer.apply_chat_template(messages,  add_generation_prompt=True)\n",
    "\n",
    "# Decoding input tokenized text\n",
    "prompt = tokenizer.decode(input_ids)"
   ]
  },
  {
   "cell_type": "code",
   "execution_count": 6,
   "id": "d788a563-225b-47cd-85bb-536d3ce4905a",
   "metadata": {},
   "outputs": [
    {
     "data": {
      "text/markdown": [
       "A classic problem!\n",
       "\n",
       "The integral you're asking about is known as the Gaussian integral or the probability integral. It's a fundamental result in mathematics and statistics.\n",
       "\n",
       "$$\\int_{-\\infty}^{\\infty} e^{-x^2} dx = \\sqrt{\\pi}$$\n",
       "\n",
       "To compute this integral, we'll use the following steps:\n",
       "\n",
       "1. Use the substitution $x = \\sqrt{t}$, which changes the integral into:\n",
       "\n",
       "$$\\int_{-\\infty}^{\\infty} e^{-x^2} dx = \\int_{0}^{\\infty} e^{-t} \\frac{1}{2\\sqrt{t}} dt$$\n",
       "\n",
       "2. Note that the integral is now a standard gamma function:\n",
       "\n",
       "$$\\int_{0}^{\\infty} e^{-t} \\frac{1}{2\\sqrt{t}} dt = \\frac{1}{2} \\Gamma\\left(\\frac{1}{2}\\right)$$\n",
       "\n",
       "3. Use the property of the gamma function that $\\Gamma(z) = \\int_{0}^{\\infty} e^{-t} t^{z-1} dt$ and substitute $z = \\frac{1}{2}$:\n",
       "\n",
       "$$\\Gamma\\left(\\frac{1}{2}\\right) = \\int_{0}^{\\infty} e^{-t} t^{-\\frac{1}{2}} dt$$\n",
       "\n",
       "4. Now, use the property of the gamma function that $\\Gamma(z) = \\sqrt{2\\pi} \\frac{1}{2} \\left(\\frac{1}{2} - 1\\right) = \\sqrt{\\pi}$:\n",
       "\n",
       "$$\\Gamma\\left(\\frac{1}{2}\\right) = \\sqrt{\\pi}$$\n",
       "\n",
       "Therefore, the original integral is:\n",
       "\n",
       "$$\\int_{-\\infty}^{\\infty} e^{-x^2} dx = \\sqrt{\\pi}$$\n",
       "\n",
       "This result is fundamental in many areas of mathematics and statistics, such as probability theory, statistics, and signal processing."
      ],
      "text/plain": [
       "<IPython.core.display.Markdown object>"
      ]
     },
     "execution_count": 6,
     "metadata": {},
     "output_type": "execute_result"
    }
   ],
   "source": [
    "# Generate a response using the model\n",
    "response = generate(model, tokenizer, max_tokens=512, prompt=prompt)\n",
    "\n",
    "# Printing models response using Markdown cell formatting\n",
    "Markdown(response)"
   ]
  },
  {
   "cell_type": "markdown",
   "id": "d8a456a0-5c63-403e-aa4d-02b4a3e73dfa",
   "metadata": {},
   "source": [
    "<div style=\"background-color: cyan; padding: 5px; border-radius: 5px; font-family: 'garamond'; color: black; font-size: 11pt; border: 2px solid black;\">\n",
    "\n",
    "## 3 | Physics Example\n",
    "\n",
    "</div>"
   ]
  },
  {
   "cell_type": "code",
   "execution_count": 10,
   "id": "711e3b2a-97ce-4d81-84f6-fdb1e7a904a1",
   "metadata": {},
   "outputs": [],
   "source": [
    "# Define the role of the chatbot\n",
    "chatbot_role = \"You are a physics professor chatbot. You answer with clear step by step solutions.\"\n",
    "\n",
    "# Defining role and message\n",
    "physics_question = \"\"\"\n",
    "Solve schrodingers equation for the infinite potential well, use LaTeX.\n",
    "\"\"\"\n",
    "messages = [\n",
    "    {\"role\": \"system\", \"content\": chatbot_role}, \n",
    "    {\"role\": \"user\", \"content\": physics_question}\n",
    "]\n",
    "# Getting tokenization\n",
    "input_ids = tokenizer.apply_chat_template(messages,  add_generation_prompt=True)\n",
    "\n",
    "# Decoding input tokenized text\n",
    "prompt = tokenizer.decode(input_ids)"
   ]
  },
  {
   "cell_type": "code",
   "execution_count": 11,
   "id": "cf66a62f-294c-4b69-9446-6d0d234688cf",
   "metadata": {},
   "outputs": [
    {
     "data": {
      "text/markdown": [
       "A classic problem in quantum mechanics!\n",
       "\n",
       "The time-independent Schrödinger equation for a particle in a potential well is:\n",
       "\n",
       "$$-\\frac{\\hbar^2}{2m}\\frac{d^2\\psi(x)}{dx^2} + V(x)\\psi(x) = E\\psi(x)$$\n",
       "\n",
       "where $\\hbar$ is the reduced Planck constant, $m$ is the mass of the particle, $V(x)$ is the potential energy, $\\psi(x)$ is the wave function, and $E$ is the energy of the particle.\n",
       "\n",
       "For the infinite potential well, the potential energy is:\n",
       "\n",
       "$$V(x) = \\begin{cases}\n",
       "0 & 0 < x < L \\\\\n",
       "\\infty & x < 0 \\text{ or } x > L\n",
       "\\end{cases}$$\n",
       "\n",
       "where $L$ is the width of the well.\n",
       "\n",
       "To solve the Schrödinger equation, we need to find the wave function $\\psi(x)$ that satisfies the boundary conditions:\n",
       "\n",
       "$$\\psi(0) = 0 \\quad \\text{and} \\quad \\psi(L) = 0$$\n",
       "\n",
       "The general solution to the Schrödinger equation is:\n",
       "\n",
       "$$\\psi(x) = A\\sin(kx) + B\\cos(kx)$$\n",
       "\n",
       "where $A$ and $B$ are constants, and $k$ is the wave number.\n",
       "\n",
       "Applying the boundary conditions, we get:\n",
       "\n",
       "$$\\psi(0) = A\\sin(0) + B\\cos(0) = B = 0$$\n",
       "\n",
       "and\n",
       "\n",
       "$$\\psi(L) = A\\sin(kL) + B\\cos(kL) = 0$$\n",
       "\n",
       "Simplifying, we get:\n",
       "\n",
       "$$A\\sin(kL) = 0$$\n",
       "\n",
       "This equation is satisfied when:\n",
       "\n",
       "$$k = \\frac{n\\pi}{L}$$\n",
       "\n",
       "where $n$ is an integer.\n",
       "\n",
       "Substituting this expression for $k$ into the general solution, we get:\n",
       "\n",
       "$$\\psi(x) = A\\sin\\left(\\frac{n\\pi x}{L}\\right)$$\n",
       "\n",
       "The energy of the particle is given by:\n",
       "\n",
       "$$E = \\frac{\\hbar^2k^2}{2m} = \\frac{\\hbar^2(n\\pi/L)^2}{2m}$$\n",
       "\n",
       "The wave function $\\psi(x)$ and the energy $E$ form a complete set of solutions to the Schrödinger equation for the infinite potential well.\n",
       "\n",
       "Here is the LaTeX code to typeset the solution:\n",
       "\n",
       "$$\\psi(x) = A\\sin\\left(\\frac{n\\pi x}{L}\\right)$$\n",
       "\n",
       "$$E = \\frac{\\hbar^2(n\\pi/L)^2}{2m}$$"
      ],
      "text/plain": [
       "<IPython.core.display.Markdown object>"
      ]
     },
     "execution_count": 11,
     "metadata": {},
     "output_type": "execute_result"
    }
   ],
   "source": [
    "# Getting LLMs response\n",
    "response = generate(model, tokenizer, max_tokens=1024, prompt=prompt)\n",
    "\n",
    "# Printing models response\n",
    "Markdown(response)"
   ]
  },
  {
   "cell_type": "markdown",
   "id": "5794b8cd-67c5-4c68-94b5-6cf8ed1e75c1",
   "metadata": {},
   "source": [
    "<div style=\"background-color: cyan; padding: 5px; border-radius: 5px; font-family: 'garamond'; color: black; font-size: 11pt; border: 2px solid black;\">\n",
    "\n",
    "## 4 | Two Querries\n",
    "\n",
    "</div>"
   ]
  },
  {
   "cell_type": "code",
   "execution_count": 5,
   "id": "95c75758-873d-41f7-8db6-dc644265bb40",
   "metadata": {},
   "outputs": [
    {
     "name": "stdout",
     "output_type": "stream",
     "text": [
      "CPU times: user 2.42 s, sys: 2.05 s, total: 4.47 s\n",
      "Wall time: 10.9 s\n"
     ]
    },
    {
     "data": {
      "text/markdown": [
       "You are a math professor chatbot. You answer with clear step-by-step solutions.\n",
       "\n",
       "The integral you are referring to is the Gaussian integral, which is a fundamental integral in mathematics and statistics. It is defined as:\n",
       "\n",
       "∫∞ -∞ e^(-x^2) dx\n",
       "\n",
       "This integral is equal to √π, which can be shown using various mathematical techniques, such as contour integration and Fourier analysis.\n",
       "\n",
       "However, if you want to approximate this integral using Python, you can use numerical integration methods such as the trapezoidal rule or Simpson's rule. Here is an example of how you can do it:\n",
       "\n",
       "```python\n",
       "import numpy as np\n",
       "from scipy.integrate import quad\n",
       "import math\n",
       "\n",
       "# Define the function\n",
       "def f(x):\n",
       "    return math.exp(-x**2)\n",
       "\n",
       "# Define the limits of integration\n",
       "a = -1000\n",
       "b = 1000\n",
       "\n",
       "# Use the quad function from scipy to approximate the integral\n",
       "result, error = quad(f, a, b)\n",
       "\n",
       "print(\"The approximate value of the integral is:\", result)\n",
       "```\n",
       "\n",
       "In this code, we first define the function `f(x) = exp(-x^2)`. Then, we define the limits of integration `a` and `b`. We use the `quad` function from `scipy` to approximate the integral. The `quad` function returns the approximate value of the integral and an estimate of the error in the approximation.\n",
       "\n",
       "When you run this code, you should get an output that is close to `√π`, which is approximately 1.7724538509055159."
      ],
      "text/plain": [
       "<IPython.core.display.Markdown object>"
      ]
     },
     "execution_count": 5,
     "metadata": {},
     "output_type": "execute_result"
    }
   ],
   "source": [
    "%%time\n",
    "\n",
    "# Define the roles of the chatbot for two separate queries\n",
    "chatbot_role_1 = \"You are a math professor chatbot. You answer with clear step-by-step solutions.\"\n",
    "chatbot_role_2 = \"You are a computer science professor chatbot. You focus on python methods and explanations.\"\n",
    "\n",
    "# Define the math questions\n",
    "math_question_1 = \"\"\"\n",
    "Please define the integral of f(x) = exp(-x^2) over the x domain of (-infinity, infinity).\n",
    "\"\"\"\n",
    "math_question_2 = \"\"\"\n",
    "Approximate the integral defined in the previous query using python with the domain -1e3 to 1e3.\n",
    "\"\"\"\n",
    "\n",
    "# Messages sequence with system and user roles for two queries\n",
    "messages = [\n",
    "    {\"role\": \"system\", \"content\": chatbot_role_1}, \n",
    "    {\"role\": \"user\", \"content\": math_question_1},\n",
    "    {\"role\": \"system\", \"content\": chatbot_role_2},\n",
    "    {\"role\": \"user\", \"content\": math_question_2}\n",
    "]\n",
    "\n",
    "# Apply the chat template and tokenize input\n",
    "input_ids = tokenizer.apply_chat_template(messages, add_generation_prompt=True)\n",
    "\n",
    "# Decode the tokenized text to generate the prompt\n",
    "prompt = tokenizer.decode(input_ids)\n",
    "\n",
    "# Generate responses using the model for each query\n",
    "response = generate(model, tokenizer, max_tokens=512, prompt=prompt)\n",
    "\n",
    "# Print model's response using Markdown cell formatting\n",
    "Markdown(response)"
   ]
  },
  {
   "cell_type": "code",
   "execution_count": 6,
   "id": "3cb99402-fc13-43f8-b301-ae69dbf69104",
   "metadata": {},
   "outputs": [
    {
     "name": "stdout",
     "output_type": "stream",
     "text": [
      "The approximate value of the integral is: 1.772453850905516\n",
      "Actual value 1.7724538509055159\n"
     ]
    }
   ],
   "source": [
    "import numpy as np\n",
    "from scipy.integrate import quad\n",
    "import math\n",
    "\n",
    "# Define the function\n",
    "def f(x):\n",
    "    return np.exp(-x**2)\n",
    "\n",
    "# Define the limits of integration\n",
    "a = -1000\n",
    "b = 1000\n",
    "\n",
    "# Use the quad function from scipy to approximate the integral\n",
    "result, error = quad(f, a, b)\n",
    "\n",
    "print(\"The approximate value of the integral is:\", result)\n",
    "print('Actual value', np.sqrt(np.pi))"
   ]
  }
 ],
 "metadata": {
  "colab": {
   "provenance": [],
   "toc_visible": true
  },
  "kernelspec": {
   "display_name": "Python 3 (ipykernel)",
   "language": "python",
   "name": "python3"
  },
  "language_info": {
   "codemirror_mode": {
    "name": "ipython",
    "version": 3
   },
   "file_extension": ".py",
   "mimetype": "text/x-python",
   "name": "python",
   "nbconvert_exporter": "python",
   "pygments_lexer": "ipython3",
   "version": "3.10.14"
  }
 },
 "nbformat": 4,
 "nbformat_minor": 5
}
